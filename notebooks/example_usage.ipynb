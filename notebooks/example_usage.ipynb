{
 "cells": [
  {
   "cell_type": "code",
   "execution_count": 1,
   "id": "448b5a41",
   "metadata": {},
   "outputs": [],
   "source": [
    "from client import CADConverterClient\n",
    "\n",
    "converter = CADConverterClient(\n",
    "    cad_url=\"http://localhost:8001\",\n",
    "    vecset_url=\"http://localhost:8002\"\n",
    ")\n"
   ]
  },
  {
   "cell_type": "code",
   "execution_count": 10,
   "id": "75a969df",
   "metadata": {},
   "outputs": [
    {
     "name": "stdout",
     "output_type": "stream",
     "text": [
      "STL saved at /home/michelkruse/repos/cad_conversion_api/notebooks/model.ply\n"
     ]
    }
   ],
   "source": [
    "# Convert STEP file to STL\n",
    "path = converter.convert_to_ply(\"/home/michelkruse/data_repos/fabricad-interim-states-1k/00000996/geometry_00000996.STEP\", \"./model.ply\")\n",
    "print(f\"STL saved at {path.absolute()}\")\n"
   ]
  },
  {
   "cell_type": "code",
   "execution_count": 4,
   "id": "170761d7",
   "metadata": {},
   "outputs": [],
   "source": [
    "import numpy as np\n",
    "x = np.load(\"./model.npy\")"
   ]
  },
  {
   "cell_type": "code",
   "execution_count": 6,
   "id": "e629ef99",
   "metadata": {},
   "outputs": [
    {
     "data": {
      "text/plain": [
       "(1024, 32)"
      ]
     },
     "execution_count": 6,
     "metadata": {},
     "output_type": "execute_result"
    }
   ],
   "source": [
    "x.shape"
   ]
  },
  {
   "cell_type": "code",
   "execution_count": null,
   "id": "f6297a62",
   "metadata": {},
   "outputs": [],
   "source": []
  }
 ],
 "metadata": {
  "kernelspec": {
   "display_name": "base",
   "language": "python",
   "name": "python3"
  },
  "language_info": {
   "codemirror_mode": {
    "name": "ipython",
    "version": 3
   },
   "file_extension": ".py",
   "mimetype": "text/x-python",
   "name": "python",
   "nbconvert_exporter": "python",
   "pygments_lexer": "ipython3",
   "version": "3.12.2"
  }
 },
 "nbformat": 4,
 "nbformat_minor": 5
}
