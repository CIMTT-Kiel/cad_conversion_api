{
 "cells": [
  {
   "cell_type": "code",
   "execution_count": 1,
   "id": "448b5a41",
   "metadata": {},
   "outputs": [],
   "source": [
    "from client import CADConverterClient \n",
    "\n",
    "converter = CADConverterClient(cad_url=\"http://0.0.0.0:8001\", vecset_url=\"http://0.0.0.0:8000\")"
   ]
  },
  {
   "cell_type": "code",
   "execution_count": null,
   "id": "75a969df",
   "metadata": {},
   "outputs": [
    {
     "name": "stdout",
     "output_type": "stream",
     "text": [
      "STL saved at /Users/mkruse/Documents/repos/cad_conversion_client/src/model.ply\n"
     ]
    }
   ],
   "source": [
    "# Convert STEP file to STL\n",
    "path = converter.convert_to_ply(\"/Users/mkruse/Documents/repos/syntetic_scheduling_data/data/interim/00000002/stl/00000002.stl\", \"./model.ply\")\n",
    "print(f\"STL saved at {path.absolute()}\")\n"
   ]
  },
  {
   "cell_type": "code",
   "execution_count": 6,
   "id": "aa7977c2",
   "metadata": {},
   "outputs": [
    {
     "data": {
      "text/plain": [
       "PosixPath('model.npy')"
      ]
     },
     "execution_count": 6,
     "metadata": {},
     "output_type": "execute_result"
    }
   ],
   "source": [
    "converter.convert_to_vecset(\"/Users/mkruse/Downloads/fabricad-interim-states-1k/fabricad-interim-states-1k/00000000/geometry_00000000.STEP\", \"./model.npy\")"
   ]
  },
  {
   "cell_type": "code",
   "execution_count": 5,
   "id": "170761d7",
   "metadata": {},
   "outputs": [
    {
     "data": {
      "text/plain": [
       "(1024, 32)"
      ]
     },
     "execution_count": 5,
     "metadata": {},
     "output_type": "execute_result"
    }
   ],
   "source": [
    "import numpy as np\n",
    "np.load(\"./model.npy\").shape"
   ]
  },
  {
   "cell_type": "code",
   "execution_count": null,
   "id": "e629ef99",
   "metadata": {},
   "outputs": [],
   "source": []
  }
 ],
 "metadata": {
  "kernelspec": {
   "display_name": "base",
   "language": "python",
   "name": "python3"
  },
  "language_info": {
   "codemirror_mode": {
    "name": "ipython",
    "version": 3
   },
   "file_extension": ".py",
   "mimetype": "text/x-python",
   "name": "python",
   "nbconvert_exporter": "python",
   "pygments_lexer": "ipython3",
   "version": "3.11.11"
  }
 },
 "nbformat": 4,
 "nbformat_minor": 5
}
